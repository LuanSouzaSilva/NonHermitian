{
 "cells": [
  {
   "cell_type": "markdown",
   "metadata": {},
   "source": [
    "# Código de estudo de NRG seguindo o paper do Bulla"
   ]
  },
  {
   "cell_type": "markdown",
   "metadata": {},
   "source": [
    "Inicialmente, considere o modelo para uma impureza de Anderson (SIAM), definido pela hamiltoniana abaixo\n",
    "$$\\hat{H}  = \\sum_{k\\sigma}\\epsilon_k\\hat{c}_{k\\sigma}^{\\dagger}\\hat{c}_{k\\sigma} + \\sum_{k\\sigma}V_k(\\hat{f}_{k\\sigma}^{\\dagger}\\hat{c}_{k\\sigma} + h.c) + U\\hat{n}_{f, \\uparrow}\\hat{n}_{f,\\downarrow} + \\sum_{\\sigma}\\epsilon_f \\hat{n}_{f, \\sigma}$$\n",
    "\n",
    "Por simplicidade, tomaremos inicialmente $V_k = V$ e que a cadeia é unidimensional, de forma que $\\epsilon_k = -2t\\cos(k)$."
   ]
  },
  {
   "cell_type": "markdown",
   "metadata": {},
   "source": [
    "Definemos agora a função $\\delta(x)$ e a função de hibridização $\\Delta(\\omega)$."
   ]
  },
  {
   "cell_type": "code",
   "execution_count": 2,
   "metadata": {},
   "outputs": [],
   "source": [
    "import matplotlib.pyplot as plt\n",
    "import numpy as np\n",
    "\n",
    "def delta(x_, eta_):\n",
    "    return (1/np.pi)*(eta_/(x_**2 + eta_**2))\n",
    "\n",
    "def Dispersion(k_, t_):\n",
    "    return -2*t_*np.cos(k_)\n",
    "\n",
    "def HibFunction(om_, k_, t_, V_, Nk_):\n",
    "    Delta_ = np.zeros(len(om_))\n",
    "    for j in range(len(om_)):\n",
    "        for i in range(Nk_):\n",
    "            Delta_[j] += delta(om_ - Dispersion(k_, t_), 0.01)\n",
    "    return np.pi*(V_**2)*Delta_"
   ]
  },
  {
   "cell_type": "code",
   "execution_count": null,
   "metadata": {},
   "outputs": [],
   "source": []
  },
  {
   "cell_type": "code",
   "execution_count": null,
   "metadata": {},
   "outputs": [],
   "source": []
  },
  {
   "cell_type": "code",
   "execution_count": null,
   "metadata": {},
   "outputs": [],
   "source": []
  }
 ],
 "metadata": {
  "kernelspec": {
   "display_name": "Python 3",
   "language": "python",
   "name": "python3"
  },
  "language_info": {
   "codemirror_mode": {
    "name": "ipython",
    "version": 3
   },
   "file_extension": ".py",
   "mimetype": "text/x-python",
   "name": "python",
   "nbconvert_exporter": "python",
   "pygments_lexer": "ipython3",
   "version": "3.10.12"
  }
 },
 "nbformat": 4,
 "nbformat_minor": 2
}
