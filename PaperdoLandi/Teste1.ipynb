{
 "cells": [
  {
   "cell_type": "markdown",
   "metadata": {},
   "source": [
    "### Esse código visa revisar e testar os principais conceitos do paper https://doi.org/10.1016/j.cpc.2021.108060\n",
    "\n",
    "Para começar, tratemos do caso de um bulk de 4 sítios, sem dissipadores. A hamiltoniana será a do modelo XXZ, dada por\n",
    "$$\\hat{H} = \\sum_{i = 1}^{N-1}J_i(\\sigma_{i}^{x}\\sigma_{i+1}^{x} + \\sigma_{i}^{y}\\sigma_{i+1}^{y} + \\Delta_{i}\\sigma_{i}^{z}\\sigma_{i+1}^{z}) + \\sum_{i=1}^{N}h_i\\sigma_{i}^{z}$$\n",
    "Com $\\sigma^x = \\begin{pmatrix}0 & 1 \\\\ 1 & 0\\end{pmatrix}$, $\\sigma^y = \\begin{pmatrix}0 & i \\\\ -i & 0\\end{pmatrix}$ e $\\sigma^z = \\begin{pmatrix}1 & 0 \\\\ 0 & -1\\end{pmatrix}$.\n"
   ]
  },
  {
   "cell_type": "code",
   "execution_count": 140,
   "metadata": {},
   "outputs": [],
   "source": [
    "import matplotlib.pyplot as plt\n",
    "import array_to_latex as a2l\n",
    "import numpy as np\n",
    "\n",
    "sx = np.array([[0, 1], [1, 0]], dtype = complex)\n",
    "sy = np.array([[0, 1j], [-1j, 0]], dtype = complex)\n",
    "sz = np.array([[1, 0], [0, -1]], dtype = complex)"
   ]
  },
  {
   "cell_type": "markdown",
   "metadata": {},
   "source": [
    "Comecemos por construir a hamiltoniana."
   ]
  },
  {
   "cell_type": "code",
   "execution_count": 141,
   "metadata": {},
   "outputs": [
    {
     "name": "stdout",
     "output_type": "stream",
     "text": [
      "(16, 16)\n",
      "complex128\n"
     ]
    }
   ],
   "source": [
    "N = 4\n",
    "\n",
    "J = 1\n",
    "Delta = 1.0*J\n",
    "h = 0\n",
    "\n",
    "Hx = np.kron(sx, sx)\n",
    "Hy = np.kron(sy, sy)\n",
    "Hz = np.kron(sz, sz)\n",
    "for i in range(1, N-1):\n",
    "    Hx = np.kron(Hx, sx)\n",
    "    Hy = np.kron(Hy, sy)\n",
    "    Hz = np.kron(Hz, sz)\n",
    "\n",
    "H = J*(Hx + Hy + Delta*Hz)\n",
    "\n",
    "print(H.shape)\n",
    "print(H.dtype)"
   ]
  },
  {
   "cell_type": "markdown",
   "metadata": {},
   "source": [
    "Visualização da representação de matriz da Hamiltoniana"
   ]
  },
  {
   "cell_type": "code",
   "execution_count": 142,
   "metadata": {},
   "outputs": [
    {
     "name": "stdout",
     "output_type": "stream",
     "text": [
      "\\begin{pmatrix}\n",
      "     1.0 &     0.0 &     0.0 &     0.0 &     0.0 &     0.0 &     0.0 &     0.0 &     0.0 &     0.0 &     0.0 &     0.0 &     0.0 &     0.0 &     0.0 &     2.0\\\\\n",
      "     0.0 &   -1.0 &     0.0 &     0.0 &     0.0 &     0.0 &     0.0 &     0.0 &     0.0 &     0.0 &     0.0 &     0.0 &     0.0 &     0.0 &     0.0 &     0.0\\\\\n",
      "     0.0 &     0.0 &   -1.0 &     0.0 &     0.0 &     0.0 &     0.0 &     0.0 &     0.0 &     0.0 &     0.0 &     0.0 &     0.0 &     0.0 &     0.0 &     0.0\\\\\n",
      "     0.0 &     0.0 &     0.0 &     1.0 &     0.0 &     0.0 &     0.0 &     0.0 &     0.0 &     0.0 &     0.0 &     0.0 &     2.0 &     0.0 &     0.0 &     0.0\\\\\n",
      "     0.0 &     0.0 &     0.0 &     0.0 &   -1.0 &     0.0 &     0.0 &     0.0 &     0.0 &     0.0 &     0.0 &     0.0 &     0.0 &     0.0 &     0.0 &     0.0\\\\\n",
      "     0.0 &     0.0 &     0.0 &     0.0 &     0.0 &     1.0 &     0.0 &     0.0 &     0.0 &     0.0 &     2.0 &     0.0 &     0.0 &     0.0 &     0.0 &     0.0\\\\\n",
      "     0.0 &     0.0 &     0.0 &     0.0 &     0.0 &     0.0 &     1.0 &     0.0 &     0.0 &     2.0 &     0.0 &     0.0 &     0.0 &     0.0 &     0.0 &     0.0\\\\\n",
      "     0.0 &     0.0 &     0.0 &     0.0 &     0.0 &     0.0 &     0.0 &   -1.0 &     0.0 &     0.0 &     0.0 &     0.0 &     0.0 &     0.0 &     0.0 &     0.0\\\\\n",
      "     0.0 &     0.0 &     0.0 &     0.0 &     0.0 &     0.0 &     0.0 &     0.0 &   -1.0 &     0.0 &     0.0 &     0.0 &     0.0 &     0.0 &     0.0 &     0.0\\\\\n",
      "     0.0 &     0.0 &     0.0 &     0.0 &     0.0 &     0.0 &     2.0 &     0.0 &     0.0 &     1.0 &     0.0 &     0.0 &     0.0 &     0.0 &     0.0 &     0.0\\\\\n",
      "     0.0 &     0.0 &     0.0 &     0.0 &     0.0 &     2.0 &     0.0 &     0.0 &     0.0 &     0.0 &     1.0 &     0.0 &     0.0 &     0.0 &     0.0 &     0.0\\\\\n",
      "     0.0 &     0.0 &     0.0 &     0.0 &     0.0 &     0.0 &     0.0 &     0.0 &     0.0 &     0.0 &     0.0 &   -1.0 &     0.0 &     0.0 &     0.0 &     0.0\\\\\n",
      "     0.0 &     0.0 &     0.0 &     2.0 &     0.0 &     0.0 &     0.0 &     0.0 &     0.0 &     0.0 &     0.0 &     0.0 &     1.0 &     0.0 &     0.0 &     0.0\\\\\n",
      "     0.0 &     0.0 &     0.0 &     0.0 &     0.0 &     0.0 &     0.0 &     0.0 &     0.0 &     0.0 &     0.0 &     0.0 &     0.0 &   -1.0 &     0.0 &     0.0\\\\\n",
      "     0.0 &     0.0 &     0.0 &     0.0 &     0.0 &     0.0 &     0.0 &     0.0 &     0.0 &     0.0 &     0.0 &     0.0 &     0.0 &     0.0 &   -1.0 &     0.0\\\\\n",
      "     2.0 &     0.0 &     0.0 &     0.0 &     0.0 &     0.0 &     0.0 &     0.0 &     0.0 &     0.0 &     0.0 &     0.0 &     0.0 &     0.0 &     0.0 &     1.0\n",
      "\\end{pmatrix}\n"
     ]
    },
    {
     "data": {
      "image/png": "[encoded data removed]",
      "text/plain": [
       "<Figure size 432x288 with 2 Axes>"
      ]
     },
     "metadata": {
      "needs_background": "light"
     },
     "output_type": "display_data"
    }
   ],
   "source": [
    "latex_code = a2l.to_ltx(np.round(np.real(H), 2), frmt = '{:6.1f}', arraytype = 'pmatrix', print_out=False)\n",
    "print(latex_code)\n",
    "plt.imshow(np.real(H))\n",
    "plt.colorbar()\n",
    "plt.show()"
   ]
  },
  {
   "cell_type": "markdown",
   "metadata": {},
   "source": [
    "$$\\begin{pmatrix}\n",
    "     1.2 &     0.0 &     0.0 &     0.0 &     0.0 &     0.0 &     0.0 &     0.0 &     0.0 &     0.0 &     0.0 &     0.0 &     0.0 &     0.0 &     0.0 &     2.0\\\\\n",
    "     0.0 &   -1.2 &     0.0 &     0.0 &     0.0 &     0.0 &     0.0 &     0.0 &     0.0 &     0.0 &     0.0 &     0.0 &     0.0 &     0.0 &     0.0 &     0.0\\\\\n",
    "     0.0 &     0.0 &   -1.2 &     0.0 &     0.0 &     0.0 &     0.0 &     0.0 &     0.0 &     0.0 &     0.0 &     0.0 &     0.0 &     0.0 &     0.0 &     0.0\\\\\n",
    "     0.0 &     0.0 &     0.0 &     1.2 &     0.0 &     0.0 &     0.0 &     0.0 &     0.0 &     0.0 &     0.0 &     0.0 &     2.0 &     0.0 &     0.0 &     0.0\\\\\n",
    "     0.0 &     0.0 &     0.0 &     0.0 &   -1.2 &     0.0 &     0.0 &     0.0 &     0.0 &     0.0 &     0.0 &     0.0 &     0.0 &     0.0 &     0.0 &     0.0\\\\\n",
    "     0.0 &     0.0 &     0.0 &     0.0 &     0.0 &     1.2 &     0.0 &     0.0 &     0.0 &     0.0 &     2.0 &     0.0 &     0.0 &     0.0 &     0.0 &     0.0\\\\\n",
    "     0.0 &     0.0 &     0.0 &     0.0 &     0.0 &     0.0 &     1.2 &     0.0 &     0.0 &     2.0 &     0.0 &     0.0 &     0.0 &     0.0 &     0.0 &     0.0\\\\\n",
    "     0.0 &     0.0 &     0.0 &     0.0 &     0.0 &     0.0 &     0.0 &   -1.2 &     0.0 &     0.0 &     0.0 &     0.0 &     0.0 &     0.0 &     0.0 &     0.0\\\\\n",
    "     0.0 &     0.0 &     0.0 &     0.0 &     0.0 &     0.0 &     0.0 &     0.0 &   -1.2 &     0.0 &     0.0 &     0.0 &     0.0 &     0.0 &     0.0 &     0.0\\\\\n",
    "     0.0 &     0.0 &     0.0 &     0.0 &     0.0 &     0.0 &     2.0 &     0.0 &     0.0 &     1.2 &     0.0 &     0.0 &     0.0 &     0.0 &     0.0 &     0.0\\\\\n",
    "     0.0 &     0.0 &     0.0 &     0.0 &     0.0 &     2.0 &     0.0 &     0.0 &     0.0 &     0.0 &     1.2 &     0.0 &     0.0 &     0.0 &     0.0 &     0.0\\\\\n",
    "     0.0 &     0.0 &     0.0 &     0.0 &     0.0 &     0.0 &     0.0 &     0.0 &     0.0 &     0.0 &     0.0 &   -1.2 &     0.0 &     0.0 &     0.0 &     0.0\\\\\n",
    "     0.0 &     0.0 &     0.0 &     2.0 &     0.0 &     0.0 &     0.0 &     0.0 &     0.0 &     0.0 &     0.0 &     0.0 &     1.2 &     0.0 &     0.0 &     0.0\\\\\n",
    "     0.0 &     0.0 &     0.0 &     0.0 &     0.0 &     0.0 &     0.0 &     0.0 &     0.0 &     0.0 &     0.0 &     0.0 &     0.0 &   -1.2 &     0.0 &     0.0\\\\\n",
    "     0.0 &     0.0 &     0.0 &     0.0 &     0.0 &     0.0 &     0.0 &     0.0 &     0.0 &     0.0 &     0.0 &     0.0 &     0.0 &     0.0 &   -1.2 &     0.0\\\\\n",
    "     2.0 &     0.0 &     0.0 &     0.0 &     0.0 &     0.0 &     0.0 &     0.0 &     0.0 &     0.0 &     0.0 &     0.0 &     0.0 &     0.0 &     0.0 &     1.2\n",
    "\\end{pmatrix}$$"
   ]
  },
  {
   "cell_type": "markdown",
   "metadata": {},
   "source": [
    "Diagonalização da Hamiltoniana do Bulk"
   ]
  },
  {
   "cell_type": "code",
   "execution_count": 143,
   "metadata": {},
   "outputs": [],
   "source": [
    "eigvals, eigvecs = np.linalg.eigh(H)\n"
   ]
  },
  {
   "cell_type": "markdown",
   "metadata": {},
   "source": [
    "Matriz de Densidade do estado fundamental."
   ]
  },
  {
   "cell_type": "code",
   "execution_count": 144,
   "metadata": {},
   "outputs": [
    {
     "name": "stdout",
     "output_type": "stream",
     "text": [
      "\\begin{pmatrix}\n",
      "     0.5 &     0.0 &     0.0 &     0.0 &     0.0 &     0.0 &     0.0 &     0.0 &     0.0 &     0.0 &     0.0 &     0.0 &     0.0 &     0.0 &     0.0 &     0.5\\\\\n",
      "     0.0 &     0.0 &     0.0 &     0.0 &     0.0 &     0.0 &     0.0 &     0.0 &     0.0 &     0.0 &     0.0 &     0.0 &     0.0 &     0.0 &     0.0 &     0.0\\\\\n",
      "     0.0 &     0.0 &     0.0 &     0.0 &     0.0 &     0.0 &     0.0 &     0.0 &     0.0 &     0.0 &     0.0 &     0.0 &     0.0 &     0.0 &     0.0 &     0.0\\\\\n",
      "     0.0 &     0.0 &     0.0 &     0.0 &     0.0 &     0.0 &     0.0 &     0.0 &     0.0 &     0.0 &     0.0 &     0.0 &     0.0 &     0.0 &     0.0 &     0.0\\\\\n",
      "     0.0 &     0.0 &     0.0 &     0.0 &     0.0 &     0.0 &     0.0 &     0.0 &     0.0 &     0.0 &     0.0 &     0.0 &     0.0 &     0.0 &     0.0 &     0.0\\\\\n",
      "     0.0 &     0.0 &     0.0 &     0.0 &     0.0 &     0.0 &     0.0 &     0.0 &     0.0 &     0.0 &     0.0 &     0.0 &     0.0 &     0.0 &     0.0 &     0.0\\\\\n",
      "     0.0 &     0.0 &     0.0 &     0.0 &     0.0 &     0.0 &     0.0 &     0.0 &     0.0 &     0.0 &     0.0 &     0.0 &     0.0 &     0.0 &     0.0 &     0.0\\\\\n",
      "     0.0 &     0.0 &     0.0 &     0.0 &     0.0 &     0.0 &     0.0 &     0.0 &     0.0 &     0.0 &     0.0 &     0.0 &     0.0 &     0.0 &     0.0 &     0.0\\\\\n",
      "     0.0 &     0.0 &     0.0 &     0.0 &     0.0 &     0.0 &     0.0 &     0.0 &     0.0 &     0.0 &     0.0 &     0.0 &     0.0 &     0.0 &     0.0 &     0.0\\\\\n",
      "     0.0 &     0.0 &     0.0 &     0.0 &     0.0 &     0.0 &     0.0 &     0.0 &     0.0 &     0.0 &     0.0 &     0.0 &     0.0 &     0.0 &     0.0 &     0.0\\\\\n",
      "     0.0 &     0.0 &     0.0 &     0.0 &     0.0 &     0.0 &     0.0 &     0.0 &     0.0 &     0.0 &     0.0 &     0.0 &     0.0 &     0.0 &     0.0 &     0.0\\\\\n",
      "     0.0 &     0.0 &     0.0 &     0.0 &     0.0 &     0.0 &     0.0 &     0.0 &     0.0 &     0.0 &     0.0 &     0.0 &     0.0 &     0.0 &     0.0 &     0.0\\\\\n",
      "     0.0 &     0.0 &     0.0 &     0.0 &     0.0 &     0.0 &     0.0 &     0.0 &     0.0 &     0.0 &     0.0 &     0.0 &     0.0 &     0.0 &     0.0 &     0.0\\\\\n",
      "     0.0 &     0.0 &     0.0 &     0.0 &     0.0 &     0.0 &     0.0 &     0.0 &     0.0 &     0.0 &     0.0 &     0.0 &     0.0 &     0.0 &     0.0 &     0.0\\\\\n",
      "     0.0 &     0.0 &     0.0 &     0.0 &     0.0 &     0.0 &     0.0 &     0.0 &     0.0 &     0.0 &     0.0 &     0.0 &     0.0 &     0.0 &     0.0 &     0.0\\\\\n",
      "     0.5 &     0.0 &     0.0 &     0.0 &     0.0 &     0.0 &     0.0 &     0.0 &     0.0 &     0.0 &     0.0 &     0.0 &     0.0 &     0.0 &     0.0 &     0.5\n",
      "\\end{pmatrix}\n"
     ]
    },
    {
     "data": {
      "text/plain": [
       "<matplotlib.colorbar.Colorbar at 0x7536f6fc9090>"
      ]
     },
     "execution_count": 144,
     "metadata": {},
     "output_type": "execute_result"
    },
    {
     "data": {
      "image/png": "[encoded data removed]",
      "text/plain": [
       "<Figure size 432x288 with 2 Axes>"
      ]
     },
     "metadata": {
      "needs_background": "light"
     },
     "output_type": "display_data"
    }
   ],
   "source": [
    "GS = (eigvecs[0] + 0*eigvecs[1])#/np.sqrt(2)\n",
    "rho0 = np.outer(GS, GS)\n",
    "\n",
    "latex_code = a2l.to_ltx(np.round(np.real(np.abs(rho0)), 2), frmt = '{:6.1f}', arraytype = 'pmatrix', print_out=False)\n",
    "print(latex_code)\n",
    "\n",
    "plt.imshow(np.real(rho0))\n",
    "plt.colorbar()"
   ]
  },
  {
   "cell_type": "markdown",
   "metadata": {},
   "source": [
    "$$\\begin{pmatrix}\n",
    "     0.0 &     0.0 &     0.0 &     0.0 &     0.0 &     0.0 &     0.0 &     0.0 &     0.0 &     0.0 &     0.0 &     0.0 &     0.0 &     0.0 &     0.0 &     0.0\\\\\n",
    "     0.0 &     0.0 &     0.0 &     0.0 &     0.0 &     0.0 &     0.0 &     0.0 &     0.0 &     0.0 &     0.0 &     0.0 &     0.0 &     0.0 &     0.0 &     0.0\\\\\n",
    "     0.0 &     0.0 &     0.0 &     0.0 &     0.0 &     0.0 &     0.0 &     0.0 &     0.0 &     0.0 &     0.0 &     0.0 &     0.0 &     0.0 &     0.0 &     0.0\\\\\n",
    "     0.0 &     0.0 &     0.0 &     0.0 &     0.0 &     0.0 &     0.0 &     0.0 &     0.0 &     0.0 &     0.0 &     0.0 &     0.0 &     0.0 &     0.0 &     0.0\\\\\n",
    "     0.0 &     0.0 &     0.0 &     0.0 &     0.0 &     0.0 &     0.0 &     0.0 &     0.0 &     0.0 &     0.0 &     0.0 &     0.0 &     0.0 &     0.0 &     0.0\\\\\n",
    "     0.0 &     0.0 &     0.0 &     0.0 &     0.0 &     0.0 &     0.0 &     0.0 &     0.0 &     0.0 &     0.0 &     0.0 &     0.0 &     0.0 &     0.0 &     0.0\\\\\n",
    "     0.0 &     0.0 &     0.0 &     0.0 &     0.0 &     0.0 &     0.0 &     0.0 &     0.0 &     0.0 &     0.0 &     0.0 &     0.0 &     0.0 &     0.0 &     0.0\\\\\n",
    "     0.0 &     0.0 &     0.0 &     0.0 &     0.0 &     0.0 &     0.0 &     0.0 &     0.0 &     0.0 &     0.0 &     0.0 &     0.0 &     0.0 &     0.0 &     0.0\\\\\n",
    "     0.0 &     0.0 &     0.0 &     0.0 &     0.0 &     0.0 &     0.0 &     0.0 &     0.0 &     0.0 &     0.0 &     0.0 &     0.0 &     0.0 &     0.0 &     0.0\\\\\n",
    "     0.0 &     0.0 &     0.0 &     0.0 &     0.0 &     0.0 &     0.0 &     0.0 &     0.0 &     0.0 &     0.0 &     0.0 &     0.0 &     0.0 &     0.0 &     0.0\\\\\n",
    "     0.0 &     0.0 &     0.0 &     0.0 &     0.0 &     0.0 &     0.0 &     0.0 &     0.0 &     0.0 &     0.0 &     0.0 &     0.0 &     0.0 &     0.0 &     0.0\\\\\n",
    "     0.0 &     0.0 &     0.0 &     0.0 &     0.0 &     0.0 &     0.0 &     0.0 &     0.0 &     0.0 &     0.0 &     0.5 &     0.0 &     0.0 &     0.5 &     0.0\\\\\n",
    "     0.0 &     0.0 &     0.0 &     0.0 &     0.0 &     0.0 &     0.0 &     0.0 &     0.0 &     0.0 &     0.0 &     0.0 &     0.0 &     0.0 &     0.0 &     0.0\\\\\n",
    "     0.0 &     0.0 &     0.0 &     0.0 &     0.0 &     0.0 &     0.0 &     0.0 &     0.0 &     0.0 &     0.0 &     0.0 &     0.0 &     0.0 &     0.0 &     0.0\\\\\n",
    "     0.0 &     0.0 &     0.0 &     0.0 &     0.0 &     0.0 &     0.0 &     0.0 &     0.0 &     0.0 &     0.0 &     0.5 &     0.0 &     0.0 &     0.5 &     0.0\\\\\n",
    "     0.0 &     0.0 &     0.0 &     0.0 &     0.0 &     0.0 &     0.0 &     0.0 &     0.0 &     0.0 &     0.0 &     0.0 &     0.0 &     0.0 &     0.0 &     0.0\n",
    "\\end{pmatrix}$$"
   ]
  },
  {
   "cell_type": "markdown",
   "metadata": {},
   "source": [
    "Equação de von Neumann:\n",
    "$$\\dfrac{d\\hat{\\rho}}{dt} = -i[\\hat{H}, \\hat{\\rho}]$$"
   ]
  },
  {
   "cell_type": "code",
   "execution_count": 145,
   "metadata": {},
   "outputs": [
    {
     "name": "stdout",
     "output_type": "stream",
     "text": [
      "(0.9999999999999998+0j)\n",
      "(0.9999999999999998+0j)\n",
      "(0.9999999999999998+0j)\n",
      "(0.9999999999999998+0j)\n",
      "(0.9999999999999998+0j)\n",
      "(0.9999999999999998+0j)\n",
      "(0.9999999999999998+0j)\n",
      "(0.9999999999999998+0j)\n",
      "(0.9999999999999998+0j)\n"
     ]
    },
    {
     "data": {
      "text/plain": [
       "[<matplotlib.lines.Line2D at 0x7536ee576680>]"
      ]
     },
     "execution_count": 145,
     "metadata": {},
     "output_type": "execute_result"
    },
    {
     "data": {
      "image/png": "[encoded data removed]",
      "text/plain": [
       "<Figure size 432x288 with 1 Axes>"
      ]
     },
     "metadata": {
      "needs_background": "light"
     },
     "output_type": "display_data"
    }
   ],
   "source": [
    "dt = 0.1\n",
    "Nt = 10\n",
    "\n",
    "rho = np.zeros((Nt, 16, 16),dtype = complex)\n",
    "\n",
    "sz2 = np.kron(np.identity(2), sz)\n",
    "for i in range(2):\n",
    "    sz2 = np.kron(sz2, np.identity(2))\n",
    "\n",
    "\n",
    "sz2mean = np.zeros(Nt, dtype = complex)\n",
    "rho[0] = rho0\n",
    "\n",
    "sz2mean[0] = np.trace(np.matmul(rho[0], sz2))\n",
    "for i in range(Nt-1):\n",
    "    rho[i+1] = rho[i] - 1j*(np.matmul(H, rho[i]) - np.matmul(rho[i], H))*dt\n",
    "    sz2mean[i+1] = np.trace(np.matmul(rho[i+1], sz2))\n",
    "    print(np.trace(rho[i+1]))\n",
    "\n",
    "plt.plot(np.real(sz2mean))"
   ]
  },
  {
   "cell_type": "markdown",
   "metadata": {},
   "source": [
    "Dissipação:\n",
    "$$D_i = \\gamma_i f_i\\mathcal{D}[\\sigma_i^{-}] + \\gamma_i(1-f_i)\\mathcal{D}[\\sigma_{i}^{+}]$$\n",
    "Com\n",
    "$$\\mathcal{D}[L] = L\\rho L^{\\dagger} - \\dfrac{1}{2}\\{L^{\\dagger}L, \\rho\\}$$"
   ]
  },
  {
   "cell_type": "code",
   "execution_count": 146,
   "metadata": {},
   "outputs": [],
   "source": [
    "def anticommutator(A_, B_):\n",
    "    return np.matmul(A_, B_) + np.matmul(B_, A_)\n",
    "\n",
    "def commutator(A_, B_):\n",
    "    return np.matmul(A_, B_) - np.matmul(B_, A_)\n",
    "\n",
    "def SH_Norm(A, B):\n",
    "    return np.trace(np.matmul(np.conjugate(A.T), B))\n",
    "\n",
    "def Loperator(site_, L_):\n",
    "    if site_ == 0:\n",
    "        Lop = L_\n",
    "    else:\n",
    "        Lop = np.identity(2)\n",
    "\n",
    "    for i in range(1, N):\n",
    "        if i != site_:\n",
    "            Lop = np.kron(Lop, np.identity(2))\n",
    "        else:\n",
    "            Lop = np.kron(Lop, L_)\n",
    "    return Lop\n",
    "    \n",
    "def calligD(rho_, site_):\n",
    "    splus = (sx + 1j*sy)/2\n",
    "    sminus = (sx - 1j*sy)/2\n",
    "\n",
    "    Lminus = Loperator(site_, sminus)\n",
    "    Lplus = Loperator(site_, splus)\n",
    "\n",
    "    Dminus = np.matmul(Lminus, np.matmul(rho_, np.conjugate(Lminus.T))) - anticommutator(np.matmul(np.conjugate(Lminus.T), Lminus), rho_)\n",
    "    Dplus = np.matmul(Lplus, np.matmul(rho_, np.conjugate(Lplus.T))) - anticommutator(np.matmul(np.conjugate(Lplus.T), Lplus), rho_)\n",
    "\n",
    "    return Dminus, Dplus\n",
    "\n",
    "def Dissipator(rho_, gamma_, f_, site_):\n",
    "    Dminus, Dplus = calligD(rho_, site_)\n",
    "\n",
    "    return gamma_*(f_*Dminus + (1-f_)*Dplus)\n",
    "    \n",
    "\n"
   ]
  },
  {
   "cell_type": "markdown",
   "metadata": {},
   "source": [
    "Define o Lindbladiano:\n",
    "$$ \\mathcal{L} = -i[\\hat{H}, \\hat{\\rho}] + D_1(\\hat{\\rho}) + D_N(\\hat{\\rho})$$"
   ]
  },
  {
   "cell_type": "code",
   "execution_count": 147,
   "metadata": {},
   "outputs": [],
   "source": [
    "def Lindbladiano(H_, rho_, gamma_, f1_, fN_):\n",
    "    return -1j*commutator(H_, rho_) + Dissipator(rho_, gamma_, f1_, 0) + Dissipator(rho_, gamma_, fN_, N-1)"
   ]
  },
  {
   "cell_type": "markdown",
   "metadata": {},
   "source": [
    "Evolução temporal \"inocente\" (naive):\n",
    "$$ \\dfrac{d\\hat{\\rho}}{dt} = \\mathcal{L}(\\hat{\\rho})\\Rightarrow \\hat{\\rho}(t+\\Delta t)\\approx \\hat{\\rho}(t) + \\mathcal{L}(\\hat{\\rho})*\\Delta t$$"
   ]
  },
  {
   "cell_type": "code",
   "execution_count": 148,
   "metadata": {},
   "outputs": [],
   "source": [
    "def NaiveTimeEv(H_, rho0_, gamma_, f1_, fN_, dt, Nt):\n",
    "    rhot_ = np.zeros((Nt, len(H_), len(H_)), dtype = complex)\n",
    "    Lindblad_eigs = np.zeros((Nt, len(H_)), dtype = complex)\n",
    "    rhot_[0] = rho0_\n",
    "    Lindblad_eigs[0] = np.linalg.eigvals(Lindbladiano(H_, rhot_[0], gamma_, f1_, fN_))\n",
    "    for i in range(Nt-1):\n",
    "        rhot_[i+1] = rhot_[i] + Lindbladiano(H_, rhot_[i], gamma_, f1_, fN_)*dt\n",
    "        rhot_[i+1] = rhot_[i+1]/SH_Norm(np.identity(len(rhot_[i+1])), rhot_[i+1])\n",
    "        Lindblad_eigs[i+1] = np.linalg.eigvals(Lindbladiano(H_, rhot_[i], gamma_, f1_, fN_))\n",
    "        #print(Lindblad_eigs[i+1, 0])\n",
    "\n",
    "\n",
    "    return rhot_, Lindblad_eigs\n",
    "\n"
   ]
  },
  {
   "cell_type": "markdown",
   "metadata": {},
   "source": [
    "Observáveis:\n",
    "$$m_i = \\langle \\sigma_{i}^{z}\\rangle\\\\\n",
    "\\mathcal{J}_i = 2J_i\\langle \\sigma_{i}^{x}\\sigma_{i+1}^{y} - \\sigma_{i}^{y}\\sigma_{i+1}^{x}\\rangle$$\n",
    "\n",
    "O valor esperado é calculado usando\n",
    "$$\\langle \\hat{A}\\rangle = \\text{Tr}(\\hat{\\rho}\\hat{A})$$"
   ]
  },
  {
   "cell_type": "code",
   "execution_count": null,
   "metadata": {},
   "outputs": [],
   "source": [
    "def Magnetization(rho_, site_):\n",
    "    sz2 = np.kron(np.identity(2), sz)\n",
    "    for i in range(2):\n",
    "        sz2 = np.kron(sz2, np.identity(2))\n",
    "    return sz2\n",
    "\n",
    "def LocalCurrent(rho_, site_):\n",
    "    return 1"
   ]
  },
  {
   "cell_type": "code",
   "execution_count": 154,
   "metadata": {},
   "outputs": [
    {
     "data": {
      "text/plain": [
       "<matplotlib.legend.Legend at 0x7536dd189cf0>"
      ]
     },
     "execution_count": 154,
     "metadata": {},
     "output_type": "execute_result"
    },
    {
     "data": {
      "image/png": "[encoded data removed]",
      "text/plain": [
       "<Figure size 864x576 with 1 Axes>"
      ]
     },
     "metadata": {
      "needs_background": "light"
     },
     "output_type": "display_data"
    }
   ],
   "source": [
    "gamma = 5\n",
    "f1 = 1\n",
    "fN = 0.5\n",
    "\n",
    "Nt = 400\n",
    "dt = 0.05\n",
    "\n",
    "t = np.arange(0, Nt*dt, dt)\n",
    "\n",
    "rhot, Lind_eigs = NaiveTimeEv(H, rho0, gamma, f1, fN, dt, Nt)\n",
    "\n",
    "sz2mean = np.zeros(Nt, dtype = complex)\n",
    "for i in range(Nt):\n",
    "    sz2mean[i] = np.trace(np.matmul(rhot[i], sz2))\n",
    "    #print(np.trace(rhot[i]))\n",
    "\n",
    "\n",
    "fig = plt.figure(figsize = (12, 8))\n",
    "plt.plot(t, np.real(sz2mean), label = f'$\\gamma$ = {gamma}, $f_1$ = {f1}, $f_N$ = {fN}, $\\Delta$ = {Delta}J')\n",
    "plt.ylabel(r'$\\langle\\sigma_{2}^{z}\\rangle$', fontsize = 25)\n",
    "plt.xlabel(r't', fontsize = 25)\n",
    "plt.tick_params(labelsize = 20)\n",
    "\n",
    "plt.legend(fontsize = 20)"
   ]
  },
  {
   "cell_type": "code",
   "execution_count": 150,
   "metadata": {},
   "outputs": [],
   "source": [
    "from scipy.optimize import curve_fit\n",
    "\n",
    "def ExpFit(x, a, b, c):\n",
    "    return a + b*np.exp(-x/c)"
   ]
  },
  {
   "cell_type": "code",
   "execution_count": 151,
   "metadata": {},
   "outputs": [
    {
     "name": "stdout",
     "output_type": "stream",
     "text": [
      "6.807143542820097e-10\n"
     ]
    },
    {
     "data": {
      "image/png": "[encoded data removed]",
      "text/plain": [
       "<Figure size 864x576 with 1 Axes>"
      ]
     },
     "metadata": {
      "needs_background": "light"
     },
     "output_type": "display_data"
    }
   ],
   "source": [
    "fig = plt.figure(figsize = (12, 8))\n",
    "plt.plot(t, np.real(np.max(Lind_eigs[:], axis = 1)))\n",
    "print(np.real(np.max(Lind_eigs[-1])))"
   ]
  },
  {
   "cell_type": "code",
   "execution_count": 152,
   "metadata": {},
   "outputs": [
    {
     "name": "stdout",
     "output_type": "stream",
     "text": [
      "1.3366820244959106\n"
     ]
    },
    {
     "data": {
      "text/plain": [
       "[<matplotlib.lines.Line2D at 0x7536edbcdbd0>]"
      ]
     },
     "execution_count": 152,
     "metadata": {},
     "output_type": "execute_result"
    },
    {
     "data": {
      "image/png": "[encoded data removed]",
      "text/plain": [
       "<Figure size 864x576 with 1 Axes>"
      ]
     },
     "metadata": {
      "needs_background": "light"
     },
     "output_type": "display_data"
    }
   ],
   "source": [
    "params, _ = curve_fit(ExpFit, t, np.real(np.max(Lind_eigs[:], axis = 1)))\n",
    "\n",
    "print(params[2])\n",
    "fig = plt.figure(figsize = (12, 8))\n",
    "plt.plot(t, np.real(np.max(Lind_eigs[:], axis = 1)))\n",
    "plt.plot(t, params[0] + params[1]*np.exp(-t/params[2]))"
   ]
  },
  {
   "cell_type": "code",
   "execution_count": null,
   "metadata": {},
   "outputs": [],
   "source": []
  }
 ],
 "metadata": {
  "kernelspec": {
   "display_name": "Python 3",
   "language": "python",
   "name": "python3"
  },
  "language_info": {
   "codemirror_mode": {
    "name": "ipython",
    "version": 3
   },
   "file_extension": ".py",
   "mimetype": "text/x-python",
   "name": "python",
   "nbconvert_exporter": "python",
   "pygments_lexer": "ipython3",
   "version": "3.10.12"
  }
 },
 "nbformat": 4,
 "nbformat_minor": 2
}
